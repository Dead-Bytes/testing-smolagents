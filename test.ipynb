{
 "cells": [
  {
   "cell_type": "code",
   "execution_count": 1,
   "metadata": {},
   "outputs": [
    {
     "name": "stderr",
     "output_type": "stream",
     "text": [
      "/home/deadbytes/Documents/smolagents/.venv/lib/python3.12/site-packages/tqdm/auto.py:21: TqdmWarning: IProgress not found. Please update jupyter and ipywidgets. See https://ipywidgets.readthedocs.io/en/stable/user_install.html\n",
      "  from .autonotebook import tqdm as notebook_tqdm\n"
     ]
    }
   ],
   "source": [
    "from fastembed import TextEmbedding\n",
    "import os\n",
    "from pinecone import Pinecone\n",
    "import voyageai\n"
   ]
  },
  {
   "cell_type": "code",
   "execution_count": 2,
   "metadata": {},
   "outputs": [],
   "source": [
    "embedding_model = TextEmbedding()\n",
    "API = os.getenv(\"PINECONE_API_KEY\")\n",
    "pc = Pinecone(api_key=API)\n",
    "index = pc.Index(\"unified-pyano\")\n",
    "vo = voyageai.Client()\n",
    "\n"
   ]
  },
  {
   "cell_type": "code",
   "execution_count": 9,
   "metadata": {},
   "outputs": [],
   "source": [
    "def forward(query: str):\n",
    "        # assert isinstance(query_embeddings, list), \"Your search query must be a list of floats\"\n",
    "        query_embedding = vo.embed([query], input_type=\"query\")\n",
    "        query_embedding = query_embedding.embeddings\n",
    "        print(type(query_embedding))\n",
    "        docs = index.query(\n",
    "            namespace=\"\",\n",
    "            vector=query_embedding,\n",
    "            top_k=2,\n",
    "            include_values=False,\n",
    "            include_metadata=True,\n",
    "        )\n",
    "        print(\"\\nRetrieved documents:\\n\" + \"\".join(\n",
    "            [\n",
    "                f\"\\n\\n===== Document {str(i)} =====\\n\" + doc[i].metadata[\"text\"]\n",
    "                for i, doc in enumerate([docs.matches])\n",
    "            ]))"
   ]
  },
  {
   "cell_type": "code",
   "execution_count": 10,
   "metadata": {},
   "outputs": [
    {
     "name": "stdout",
     "output_type": "stream",
     "text": [
      "<class 'list'>\n",
      "\n",
      "Retrieved documents:\n",
      "\n",
      "\n",
      "===== Document 0 =====\n",
      "Divy Raj Saini +91 98875-37977 | divyraj.saini22b@iiitg.ac.in | LinkedIn | GitHub Education Indian Institute of Information Technology, Guwahati Assam, India Bachelor of Technology in Computer Science & Engineering July. 2022 – Present Technical Skills Languages: Python, Rust, Java, C, SQL (MySQL) Frameworks & Libraries: Pytorch Edge, TensorFlow Lite, PyTorch, TensorFlow, HuggingFace, Keras, LLaMa-Factory, AutoAWQ, AutoGPTQ, llama-cpp, mistral.rs, candle Developer Tools: Git, Google Cloud Platform, VS Code, Jupyter Notebooks, Anaconda Technologies & Libraries: Tiny transformers, TinyML, Tiny Networkfs, Diffusion models, CNN, Neural Networks, GAN, Visions, NLP, Transformers, huggingface, torch, pandas, NumPy, Matplotlib, Seaborn, Scikit-learn, Transformers, Tkinter, Selenium WebDriver, boto3, pygame, PIL, yagmail, Pillow, OpenCV, NLTK, spaCy, XGBoost, candle-transformers Coursework ML & AI: Introduction to Machine Learning (By AWS), Sequences, Time Series and Prediction, Introduction to TensorFlow for Artificial Intelligence, Neural Networks in TensorFlow, Artificial Intelligence, Machine Learning Mathematics: Linear Algebra, Discrete Mathematics, Probabilities and Statistics, Optimization Techniques Core CS: Algorithms, Data Structures, Database Management Systems, Cloud Computing, Computer Networks, Object Oriented Programming (using Java), Theory of Computation, Operating Systems, Computer Architecture, Programming with C Other Engineering: Digital Design, Electrical Circuits, Physics, Economics, Financial Accounting, Linguistics, Chemistry Internships And Work Experience AI Intern September 2024 – Present Pyano.network New Delhi,India • Engaged in research to make LLM’s more efficient on Local Devices, Curated datasets for the Domain specific requirements and bench marked various LLMs in different quantization to optimize them for users. • Integrated the Web3 languages and AI, providing the finetuned versions of industry best models to work in web3 domain. These models performed much better than the base versions, even boosting the domain-specific performance by 2x. • Worked on integrating various LLM’s, VLM’s to our Rust Agentic framework which created perfect abstraction for users to chain the LLM agents On-the-Go. Research Internship July 2024 – August, 2024 Under Dr. Sanjay Kumar Singh IIT-BHU,Varansi • Implemented tiny transformers for Object Recognition tasks and gained an accuracy score of more than 65. • Led efforts to refine Xi-net implementations for microprocessor compatibility, resulting in reduction in energy consumption during classification tasks, optimizing operational efficiency for edge devices in resource-constrained environments. Research Internship Jan. 2024 – Aug. 2024 Under Dr. Pin-Yu Chen (Link) IBM Research,New York • Developed and implemented mathematical models based on research papers to establish benchmarks, writing over 80% of the required Python code. • Submitted our work for EMNLP-25, with me as a First Author and will resubmit at a Major NLP conference in future. Club Coordinator August 2023 - Dec. 2023 Mavericks : The ML Society IIIT Guwahati • Introduced a drive for Machine Learning in the freshers and organized several workshops to deliver my fellow pupils the best ML can offer, held weekly challenges and lectures to empower new ones through peer learning(Link)\n"
     ]
    }
   ],
   "source": [
    "forward(query=\"Divyraj\")"
   ]
  },
  {
   "cell_type": "code",
   "execution_count": null,
   "metadata": {},
   "outputs": [],
   "source": []
  }
 ],
 "metadata": {
  "kernelspec": {
   "display_name": ".venv",
   "language": "python",
   "name": "python3"
  },
  "language_info": {
   "codemirror_mode": {
    "name": "ipython",
    "version": 3
   },
   "file_extension": ".py",
   "mimetype": "text/x-python",
   "name": "python",
   "nbconvert_exporter": "python",
   "pygments_lexer": "ipython3",
   "version": "3.12.7"
  }
 },
 "nbformat": 4,
 "nbformat_minor": 2
}
